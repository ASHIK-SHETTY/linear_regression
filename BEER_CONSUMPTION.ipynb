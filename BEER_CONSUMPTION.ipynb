{
 "cells": [
  {
   "cell_type": "code",
   "execution_count": 365,
   "id": "d58d3d51",
   "metadata": {},
   "outputs": [],
   "source": [
    "import pandas as pd\n",
    "import numpy as np\n",
    "import matplotlib.pyplot as plt\n",
    "import seaborn as sns\n",
    "from sklearn.preprocessing import StandardScaler\n",
    "from sklearn.model_selection import train_test_split, cross_val_score\n",
    "from sklearn.linear_model import LinearRegression, Ridge, Lasso\n",
    "from sklearn.metrics import mean_squared_error, mean_absolute_error, r2_score\n",
    "import statsmodels.api as sm\n",
    "import warnings\n",
    "warnings.filterwarnings('ignore')\n",
    "from sklearn.model_selection import RandomizedSearchCV, GridSearchCV\n",
    "from mlxtend.feature_selection import SequentialFeatureSelector as sfs"
   ]
  },
  {
   "cell_type": "code",
   "execution_count": 255,
   "id": "99739473",
   "metadata": {},
   "outputs": [
    {
     "data": {
      "text/html": [
       "<div>\n",
       "<style scoped>\n",
       "    .dataframe tbody tr th:only-of-type {\n",
       "        vertical-align: middle;\n",
       "    }\n",
       "\n",
       "    .dataframe tbody tr th {\n",
       "        vertical-align: top;\n",
       "    }\n",
       "\n",
       "    .dataframe thead th {\n",
       "        text-align: right;\n",
       "    }\n",
       "</style>\n",
       "<table border=\"1\" class=\"dataframe\">\n",
       "  <thead>\n",
       "    <tr style=\"text-align: right;\">\n",
       "      <th></th>\n",
       "      <th>Data</th>\n",
       "      <th>Temperatura Media (C)</th>\n",
       "      <th>Temperatura Minima (C)</th>\n",
       "      <th>Temperatura Maxima (C)</th>\n",
       "      <th>Precipitacao (mm)</th>\n",
       "      <th>Final de Semana</th>\n",
       "      <th>Consumo de cerveja (litros)</th>\n",
       "    </tr>\n",
       "  </thead>\n",
       "  <tbody>\n",
       "    <tr>\n",
       "      <th>0</th>\n",
       "      <td>2015-01-01</td>\n",
       "      <td>27,3</td>\n",
       "      <td>23,9</td>\n",
       "      <td>32,5</td>\n",
       "      <td>0</td>\n",
       "      <td>0.0</td>\n",
       "      <td>25.461</td>\n",
       "    </tr>\n",
       "    <tr>\n",
       "      <th>1</th>\n",
       "      <td>2015-01-02</td>\n",
       "      <td>27,02</td>\n",
       "      <td>24,5</td>\n",
       "      <td>33,5</td>\n",
       "      <td>0</td>\n",
       "      <td>0.0</td>\n",
       "      <td>28.972</td>\n",
       "    </tr>\n",
       "    <tr>\n",
       "      <th>2</th>\n",
       "      <td>2015-01-03</td>\n",
       "      <td>24,82</td>\n",
       "      <td>22,4</td>\n",
       "      <td>29,9</td>\n",
       "      <td>0</td>\n",
       "      <td>1.0</td>\n",
       "      <td>30.814</td>\n",
       "    </tr>\n",
       "    <tr>\n",
       "      <th>3</th>\n",
       "      <td>2015-01-04</td>\n",
       "      <td>23,98</td>\n",
       "      <td>21,5</td>\n",
       "      <td>28,6</td>\n",
       "      <td>1,2</td>\n",
       "      <td>1.0</td>\n",
       "      <td>29.799</td>\n",
       "    </tr>\n",
       "    <tr>\n",
       "      <th>4</th>\n",
       "      <td>2015-01-05</td>\n",
       "      <td>23,82</td>\n",
       "      <td>21</td>\n",
       "      <td>28,3</td>\n",
       "      <td>0</td>\n",
       "      <td>0.0</td>\n",
       "      <td>28.900</td>\n",
       "    </tr>\n",
       "  </tbody>\n",
       "</table>\n",
       "</div>"
      ],
      "text/plain": [
       "         Data Temperatura Media (C) Temperatura Minima (C)  \\\n",
       "0  2015-01-01                  27,3                   23,9   \n",
       "1  2015-01-02                 27,02                   24,5   \n",
       "2  2015-01-03                 24,82                   22,4   \n",
       "3  2015-01-04                 23,98                   21,5   \n",
       "4  2015-01-05                 23,82                     21   \n",
       "\n",
       "  Temperatura Maxima (C) Precipitacao (mm)  Final de Semana  \\\n",
       "0                   32,5                 0              0.0   \n",
       "1                   33,5                 0              0.0   \n",
       "2                   29,9                 0              1.0   \n",
       "3                   28,6               1,2              1.0   \n",
       "4                   28,3                 0              0.0   \n",
       "\n",
       "   Consumo de cerveja (litros)  \n",
       "0                       25.461  \n",
       "1                       28.972  \n",
       "2                       30.814  \n",
       "3                       29.799  \n",
       "4                       28.900  "
      ]
     },
     "execution_count": 255,
     "metadata": {},
     "output_type": "execute_result"
    }
   ],
   "source": [
    "df=pd.read_csv('beer_consumption.csv')\n",
    "df.head()"
   ]
  },
  {
   "cell_type": "code",
   "execution_count": 256,
   "id": "a56d5442",
   "metadata": {},
   "outputs": [
    {
     "data": {
      "text/html": [
       "<div>\n",
       "<style scoped>\n",
       "    .dataframe tbody tr th:only-of-type {\n",
       "        vertical-align: middle;\n",
       "    }\n",
       "\n",
       "    .dataframe tbody tr th {\n",
       "        vertical-align: top;\n",
       "    }\n",
       "\n",
       "    .dataframe thead th {\n",
       "        text-align: right;\n",
       "    }\n",
       "</style>\n",
       "<table border=\"1\" class=\"dataframe\">\n",
       "  <thead>\n",
       "    <tr style=\"text-align: right;\">\n",
       "      <th></th>\n",
       "      <th>Date</th>\n",
       "      <th>Temp_Med</th>\n",
       "      <th>Temp_Min</th>\n",
       "      <th>Temp_Max</th>\n",
       "      <th>Precipitate</th>\n",
       "      <th>Weekend</th>\n",
       "      <th>Consumption</th>\n",
       "    </tr>\n",
       "  </thead>\n",
       "  <tbody>\n",
       "    <tr>\n",
       "      <th>0</th>\n",
       "      <td>2015-01-01</td>\n",
       "      <td>27,3</td>\n",
       "      <td>23,9</td>\n",
       "      <td>32,5</td>\n",
       "      <td>0</td>\n",
       "      <td>0.0</td>\n",
       "      <td>25.461</td>\n",
       "    </tr>\n",
       "    <tr>\n",
       "      <th>1</th>\n",
       "      <td>2015-01-02</td>\n",
       "      <td>27,02</td>\n",
       "      <td>24,5</td>\n",
       "      <td>33,5</td>\n",
       "      <td>0</td>\n",
       "      <td>0.0</td>\n",
       "      <td>28.972</td>\n",
       "    </tr>\n",
       "    <tr>\n",
       "      <th>2</th>\n",
       "      <td>2015-01-03</td>\n",
       "      <td>24,82</td>\n",
       "      <td>22,4</td>\n",
       "      <td>29,9</td>\n",
       "      <td>0</td>\n",
       "      <td>1.0</td>\n",
       "      <td>30.814</td>\n",
       "    </tr>\n",
       "    <tr>\n",
       "      <th>3</th>\n",
       "      <td>2015-01-04</td>\n",
       "      <td>23,98</td>\n",
       "      <td>21,5</td>\n",
       "      <td>28,6</td>\n",
       "      <td>1,2</td>\n",
       "      <td>1.0</td>\n",
       "      <td>29.799</td>\n",
       "    </tr>\n",
       "    <tr>\n",
       "      <th>4</th>\n",
       "      <td>2015-01-05</td>\n",
       "      <td>23,82</td>\n",
       "      <td>21</td>\n",
       "      <td>28,3</td>\n",
       "      <td>0</td>\n",
       "      <td>0.0</td>\n",
       "      <td>28.900</td>\n",
       "    </tr>\n",
       "  </tbody>\n",
       "</table>\n",
       "</div>"
      ],
      "text/plain": [
       "         Date Temp_Med Temp_Min Temp_Max Precipitate  Weekend  Consumption\n",
       "0  2015-01-01     27,3     23,9     32,5           0      0.0       25.461\n",
       "1  2015-01-02    27,02     24,5     33,5           0      0.0       28.972\n",
       "2  2015-01-03    24,82     22,4     29,9           0      1.0       30.814\n",
       "3  2015-01-04    23,98     21,5     28,6         1,2      1.0       29.799\n",
       "4  2015-01-05    23,82       21     28,3           0      0.0       28.900"
      ]
     },
     "execution_count": 256,
     "metadata": {},
     "output_type": "execute_result"
    }
   ],
   "source": [
    "df=df.rename(columns={'Data':'Date', 'Temperatura Media (C)': 'Temp_Med','Temperatura Maxima (C)':'Temp_Max' ,'Temperatura Minima (C)':'Temp_Min', 'Precipitacao (mm)':'Precipitate', 'Final de Semana':'Weekend', 'Consumo de cerveja (litros)': 'Consumption' })\n",
    "df.head()"
   ]
  },
  {
   "cell_type": "code",
   "execution_count": 257,
   "id": "5139376e",
   "metadata": {},
   "outputs": [
    {
     "name": "stdout",
     "output_type": "stream",
     "text": [
      "Number of rows:941 and columns:7\n"
     ]
    }
   ],
   "source": [
    "# Number of rows and columns\n",
    "df.shape\n",
    "print('Number of rows:{} and columns:{}'.format(df.shape[0],df.shape[1]))"
   ]
  },
  {
   "cell_type": "code",
   "execution_count": 258,
   "id": "57ebdd15",
   "metadata": {},
   "outputs": [
    {
     "name": "stdout",
     "output_type": "stream",
     "text": [
      "<class 'pandas.core.frame.DataFrame'>\n",
      "RangeIndex: 941 entries, 0 to 940\n",
      "Data columns (total 7 columns):\n",
      " #   Column       Non-Null Count  Dtype  \n",
      "---  ------       --------------  -----  \n",
      " 0   Date         365 non-null    object \n",
      " 1   Temp_Med     365 non-null    object \n",
      " 2   Temp_Min     365 non-null    object \n",
      " 3   Temp_Max     365 non-null    object \n",
      " 4   Precipitate  365 non-null    object \n",
      " 5   Weekend      365 non-null    float64\n",
      " 6   Consumption  365 non-null    float64\n",
      "dtypes: float64(2), object(5)\n",
      "memory usage: 51.6+ KB\n"
     ]
    }
   ],
   "source": [
    "df.info()"
   ]
  },
  {
   "cell_type": "code",
   "execution_count": 259,
   "id": "97091b80",
   "metadata": {},
   "outputs": [],
   "source": [
    "# Replace (,) with (.) for Temp_Med, Temp_Min, Temp_Max and Precipitate"
   ]
  },
  {
   "cell_type": "code",
   "execution_count": 260,
   "id": "9a3fabe4",
   "metadata": {},
   "outputs": [],
   "source": [
    "for col in df.iloc[:,1:5]:\n",
    "    df[col]=df[col].str.replace(',','.')"
   ]
  },
  {
   "cell_type": "code",
   "execution_count": 261,
   "id": "f862ca5d",
   "metadata": {},
   "outputs": [],
   "source": [
    "# Datatype correction\n",
    "for col in df.iloc[:,1:5]:\n",
    "    df[col]=df[col].astype(np.number)"
   ]
  },
  {
   "cell_type": "code",
   "execution_count": 262,
   "id": "24db9b42",
   "metadata": {},
   "outputs": [],
   "source": [
    "# Date column will be dropped as it has a lot of unique values\n",
    "df.drop('Date', axis=1, inplace=True)"
   ]
  },
  {
   "cell_type": "code",
   "execution_count": 263,
   "id": "dd030f9e",
   "metadata": {},
   "outputs": [],
   "source": [
    "df['Weekend']=df['Weekend'].astype(object)"
   ]
  },
  {
   "cell_type": "code",
   "execution_count": 264,
   "id": "6e63b5ac",
   "metadata": {},
   "outputs": [
    {
     "name": "stdout",
     "output_type": "stream",
     "text": [
      "<class 'pandas.core.frame.DataFrame'>\n",
      "RangeIndex: 941 entries, 0 to 940\n",
      "Data columns (total 6 columns):\n",
      " #   Column       Non-Null Count  Dtype  \n",
      "---  ------       --------------  -----  \n",
      " 0   Temp_Med     365 non-null    float64\n",
      " 1   Temp_Min     365 non-null    float64\n",
      " 2   Temp_Max     365 non-null    float64\n",
      " 3   Precipitate  365 non-null    float64\n",
      " 4   Weekend      365 non-null    object \n",
      " 5   Consumption  365 non-null    float64\n",
      "dtypes: float64(5), object(1)\n",
      "memory usage: 44.2+ KB\n"
     ]
    }
   ],
   "source": [
    "df.info()"
   ]
  },
  {
   "cell_type": "code",
   "execution_count": 265,
   "id": "983ad450",
   "metadata": {},
   "outputs": [
    {
     "data": {
      "text/html": [
       "<div>\n",
       "<style scoped>\n",
       "    .dataframe tbody tr th:only-of-type {\n",
       "        vertical-align: middle;\n",
       "    }\n",
       "\n",
       "    .dataframe tbody tr th {\n",
       "        vertical-align: top;\n",
       "    }\n",
       "\n",
       "    .dataframe thead th {\n",
       "        text-align: right;\n",
       "    }\n",
       "</style>\n",
       "<table border=\"1\" class=\"dataframe\">\n",
       "  <thead>\n",
       "    <tr style=\"text-align: right;\">\n",
       "      <th></th>\n",
       "      <th>Temp_Med</th>\n",
       "      <th>Temp_Min</th>\n",
       "      <th>Temp_Max</th>\n",
       "      <th>Precipitate</th>\n",
       "      <th>Weekend</th>\n",
       "      <th>Consumption</th>\n",
       "    </tr>\n",
       "  </thead>\n",
       "  <tbody>\n",
       "    <tr>\n",
       "      <th>0</th>\n",
       "      <td>27.30</td>\n",
       "      <td>23.9</td>\n",
       "      <td>32.5</td>\n",
       "      <td>0.0</td>\n",
       "      <td>0.0</td>\n",
       "      <td>25.461</td>\n",
       "    </tr>\n",
       "    <tr>\n",
       "      <th>1</th>\n",
       "      <td>27.02</td>\n",
       "      <td>24.5</td>\n",
       "      <td>33.5</td>\n",
       "      <td>0.0</td>\n",
       "      <td>0.0</td>\n",
       "      <td>28.972</td>\n",
       "    </tr>\n",
       "    <tr>\n",
       "      <th>2</th>\n",
       "      <td>24.82</td>\n",
       "      <td>22.4</td>\n",
       "      <td>29.9</td>\n",
       "      <td>0.0</td>\n",
       "      <td>1.0</td>\n",
       "      <td>30.814</td>\n",
       "    </tr>\n",
       "    <tr>\n",
       "      <th>3</th>\n",
       "      <td>23.98</td>\n",
       "      <td>21.5</td>\n",
       "      <td>28.6</td>\n",
       "      <td>1.2</td>\n",
       "      <td>1.0</td>\n",
       "      <td>29.799</td>\n",
       "    </tr>\n",
       "    <tr>\n",
       "      <th>4</th>\n",
       "      <td>23.82</td>\n",
       "      <td>21.0</td>\n",
       "      <td>28.3</td>\n",
       "      <td>0.0</td>\n",
       "      <td>0.0</td>\n",
       "      <td>28.900</td>\n",
       "    </tr>\n",
       "  </tbody>\n",
       "</table>\n",
       "</div>"
      ],
      "text/plain": [
       "   Temp_Med  Temp_Min  Temp_Max  Precipitate Weekend  Consumption\n",
       "0     27.30      23.9      32.5          0.0     0.0       25.461\n",
       "1     27.02      24.5      33.5          0.0     0.0       28.972\n",
       "2     24.82      22.4      29.9          0.0     1.0       30.814\n",
       "3     23.98      21.5      28.6          1.2     1.0       29.799\n",
       "4     23.82      21.0      28.3          0.0     0.0       28.900"
      ]
     },
     "execution_count": 265,
     "metadata": {},
     "output_type": "execute_result"
    }
   ],
   "source": [
    "df.head()"
   ]
  },
  {
   "cell_type": "code",
   "execution_count": 266,
   "id": "9b97afdf",
   "metadata": {},
   "outputs": [
    {
     "data": {
      "text/html": [
       "<div>\n",
       "<style scoped>\n",
       "    .dataframe tbody tr th:only-of-type {\n",
       "        vertical-align: middle;\n",
       "    }\n",
       "\n",
       "    .dataframe tbody tr th {\n",
       "        vertical-align: top;\n",
       "    }\n",
       "\n",
       "    .dataframe thead th {\n",
       "        text-align: right;\n",
       "    }\n",
       "</style>\n",
       "<table border=\"1\" class=\"dataframe\">\n",
       "  <thead>\n",
       "    <tr style=\"text-align: right;\">\n",
       "      <th></th>\n",
       "      <th>Temp_Med</th>\n",
       "      <th>Temp_Min</th>\n",
       "      <th>Temp_Max</th>\n",
       "      <th>Precipitate</th>\n",
       "      <th>Consumption</th>\n",
       "    </tr>\n",
       "  </thead>\n",
       "  <tbody>\n",
       "    <tr>\n",
       "      <th>0</th>\n",
       "      <td>27.30</td>\n",
       "      <td>23.9</td>\n",
       "      <td>32.5</td>\n",
       "      <td>0.0</td>\n",
       "      <td>25.461</td>\n",
       "    </tr>\n",
       "    <tr>\n",
       "      <th>1</th>\n",
       "      <td>27.02</td>\n",
       "      <td>24.5</td>\n",
       "      <td>33.5</td>\n",
       "      <td>0.0</td>\n",
       "      <td>28.972</td>\n",
       "    </tr>\n",
       "    <tr>\n",
       "      <th>2</th>\n",
       "      <td>24.82</td>\n",
       "      <td>22.4</td>\n",
       "      <td>29.9</td>\n",
       "      <td>0.0</td>\n",
       "      <td>30.814</td>\n",
       "    </tr>\n",
       "    <tr>\n",
       "      <th>3</th>\n",
       "      <td>23.98</td>\n",
       "      <td>21.5</td>\n",
       "      <td>28.6</td>\n",
       "      <td>1.2</td>\n",
       "      <td>29.799</td>\n",
       "    </tr>\n",
       "    <tr>\n",
       "      <th>4</th>\n",
       "      <td>23.82</td>\n",
       "      <td>21.0</td>\n",
       "      <td>28.3</td>\n",
       "      <td>0.0</td>\n",
       "      <td>28.900</td>\n",
       "    </tr>\n",
       "  </tbody>\n",
       "</table>\n",
       "</div>"
      ],
      "text/plain": [
       "   Temp_Med  Temp_Min  Temp_Max  Precipitate  Consumption\n",
       "0     27.30      23.9      32.5          0.0       25.461\n",
       "1     27.02      24.5      33.5          0.0       28.972\n",
       "2     24.82      22.4      29.9          0.0       30.814\n",
       "3     23.98      21.5      28.6          1.2       29.799\n",
       "4     23.82      21.0      28.3          0.0       28.900"
      ]
     },
     "execution_count": 266,
     "metadata": {},
     "output_type": "execute_result"
    }
   ],
   "source": [
    "num=df.select_dtypes(include=np.number)\n",
    "num.head()"
   ]
  },
  {
   "cell_type": "code",
   "execution_count": 267,
   "id": "f1696247",
   "metadata": {},
   "outputs": [
    {
     "data": {
      "text/html": [
       "<div>\n",
       "<style scoped>\n",
       "    .dataframe tbody tr th:only-of-type {\n",
       "        vertical-align: middle;\n",
       "    }\n",
       "\n",
       "    .dataframe tbody tr th {\n",
       "        vertical-align: top;\n",
       "    }\n",
       "\n",
       "    .dataframe thead th {\n",
       "        text-align: right;\n",
       "    }\n",
       "</style>\n",
       "<table border=\"1\" class=\"dataframe\">\n",
       "  <thead>\n",
       "    <tr style=\"text-align: right;\">\n",
       "      <th></th>\n",
       "      <th>Weekend</th>\n",
       "    </tr>\n",
       "  </thead>\n",
       "  <tbody>\n",
       "    <tr>\n",
       "      <th>0</th>\n",
       "      <td>0.0</td>\n",
       "    </tr>\n",
       "    <tr>\n",
       "      <th>1</th>\n",
       "      <td>0.0</td>\n",
       "    </tr>\n",
       "    <tr>\n",
       "      <th>2</th>\n",
       "      <td>1.0</td>\n",
       "    </tr>\n",
       "    <tr>\n",
       "      <th>3</th>\n",
       "      <td>1.0</td>\n",
       "    </tr>\n",
       "    <tr>\n",
       "      <th>4</th>\n",
       "      <td>0.0</td>\n",
       "    </tr>\n",
       "  </tbody>\n",
       "</table>\n",
       "</div>"
      ],
      "text/plain": [
       "  Weekend\n",
       "0     0.0\n",
       "1     0.0\n",
       "2     1.0\n",
       "3     1.0\n",
       "4     0.0"
      ]
     },
     "execution_count": 267,
     "metadata": {},
     "output_type": "execute_result"
    }
   ],
   "source": [
    "cat=df.select_dtypes(include=object)\n",
    "cat.head()"
   ]
  },
  {
   "cell_type": "markdown",
   "id": "8d3193ed",
   "metadata": {},
   "source": [
    "5 Point Summary"
   ]
  },
  {
   "cell_type": "code",
   "execution_count": 268,
   "id": "1917e849",
   "metadata": {},
   "outputs": [],
   "source": [
    "iqr_df=pd.DataFrame(index=['q1','q3','iqr','ub','lb'], columns=num.columns)"
   ]
  },
  {
   "cell_type": "code",
   "execution_count": 269,
   "id": "93707b71",
   "metadata": {},
   "outputs": [],
   "source": [
    "for col in num:\n",
    "    q1=df[col].quantile(0.25)\n",
    "    q3=df[col].quantile(0.75)\n",
    "    iqr=q3-q1\n",
    "    ub=q3+(1.5*iqr)\n",
    "    lb=q1-(1.5*iqr)\n",
    "    \n",
    "    iqr_df.loc['q1',col]=q1\n",
    "    iqr_df.loc['q3',col]=q3\n",
    "    iqr_df.loc['iqr',col]=iqr\n",
    "    iqr_df.loc['ub',col]=ub\n",
    "    iqr_df.loc['lb',col]=lb"
   ]
  },
  {
   "cell_type": "code",
   "execution_count": 270,
   "id": "5e191e0e",
   "metadata": {},
   "outputs": [
    {
     "data": {
      "text/html": [
       "<div>\n",
       "<style scoped>\n",
       "    .dataframe tbody tr th:only-of-type {\n",
       "        vertical-align: middle;\n",
       "    }\n",
       "\n",
       "    .dataframe tbody tr th {\n",
       "        vertical-align: top;\n",
       "    }\n",
       "\n",
       "    .dataframe thead th {\n",
       "        text-align: right;\n",
       "    }\n",
       "</style>\n",
       "<table border=\"1\" class=\"dataframe\">\n",
       "  <thead>\n",
       "    <tr style=\"text-align: right;\">\n",
       "      <th></th>\n",
       "      <th>Temp_Med</th>\n",
       "      <th>Temp_Min</th>\n",
       "      <th>Temp_Max</th>\n",
       "      <th>Precipitate</th>\n",
       "      <th>Consumption</th>\n",
       "    </tr>\n",
       "  </thead>\n",
       "  <tbody>\n",
       "    <tr>\n",
       "      <th>q1</th>\n",
       "      <td>19.02</td>\n",
       "      <td>15.3</td>\n",
       "      <td>23.8</td>\n",
       "      <td>0.0</td>\n",
       "      <td>22.008</td>\n",
       "    </tr>\n",
       "    <tr>\n",
       "      <th>q3</th>\n",
       "      <td>23.28</td>\n",
       "      <td>19.6</td>\n",
       "      <td>29.4</td>\n",
       "      <td>3.2</td>\n",
       "      <td>28.631</td>\n",
       "    </tr>\n",
       "    <tr>\n",
       "      <th>iqr</th>\n",
       "      <td>4.26</td>\n",
       "      <td>4.3</td>\n",
       "      <td>5.6</td>\n",
       "      <td>3.2</td>\n",
       "      <td>6.623</td>\n",
       "    </tr>\n",
       "    <tr>\n",
       "      <th>ub</th>\n",
       "      <td>29.67</td>\n",
       "      <td>26.05</td>\n",
       "      <td>37.8</td>\n",
       "      <td>8.0</td>\n",
       "      <td>38.5655</td>\n",
       "    </tr>\n",
       "    <tr>\n",
       "      <th>lb</th>\n",
       "      <td>12.63</td>\n",
       "      <td>8.85</td>\n",
       "      <td>15.4</td>\n",
       "      <td>-4.8</td>\n",
       "      <td>12.0735</td>\n",
       "    </tr>\n",
       "  </tbody>\n",
       "</table>\n",
       "</div>"
      ],
      "text/plain": [
       "    Temp_Med Temp_Min Temp_Max Precipitate Consumption\n",
       "q1     19.02     15.3     23.8         0.0      22.008\n",
       "q3     23.28     19.6     29.4         3.2      28.631\n",
       "iqr     4.26      4.3      5.6         3.2       6.623\n",
       "ub     29.67    26.05     37.8         8.0     38.5655\n",
       "lb     12.63     8.85     15.4        -4.8     12.0735"
      ]
     },
     "execution_count": 270,
     "metadata": {},
     "output_type": "execute_result"
    }
   ],
   "source": [
    "iqr_df"
   ]
  },
  {
   "cell_type": "markdown",
   "id": "9f84b05b",
   "metadata": {},
   "source": [
    "### Missing Values, Null, Outliers"
   ]
  },
  {
   "cell_type": "markdown",
   "id": "2556ae98",
   "metadata": {},
   "source": [
    "#### Missing Values"
   ]
  },
  {
   "cell_type": "code",
   "execution_count": 271,
   "id": "9d2d7256",
   "metadata": {},
   "outputs": [
    {
     "data": {
      "text/plain": [
       "Temp_Med       61.211477\n",
       "Temp_Min       61.211477\n",
       "Temp_Max       61.211477\n",
       "Precipitate    61.211477\n",
       "Weekend        61.211477\n",
       "Consumption    61.211477\n",
       "dtype: float64"
      ]
     },
     "execution_count": 271,
     "metadata": {},
     "output_type": "execute_result"
    }
   ],
   "source": [
    "(df.isnull().sum()/df.shape[0])*100"
   ]
  },
  {
   "cell_type": "markdown",
   "id": "a7401323",
   "metadata": {},
   "source": [
    "#### Outliers"
   ]
  },
  {
   "cell_type": "code",
   "execution_count": 272,
   "id": "f1f8139b",
   "metadata": {},
   "outputs": [
    {
     "data": {
      "image/png": "[encoded data removed]",
      "text/plain": [
       "<Figure size 1000x600 with 5 Axes>"
      ]
     },
     "metadata": {},
     "output_type": "display_data"
    }
   ],
   "source": [
    "plt.figure(figsize=(10,6))\n",
    "i=1\n",
    "for col in num:\n",
    "    plt.subplot(2,3,i)\n",
    "    sns.boxplot(x=num[col])\n",
    "    i=i+1"
   ]
  },
  {
   "cell_type": "code",
   "execution_count": 273,
   "id": "920f045b",
   "metadata": {},
   "outputs": [],
   "source": [
    "for col in num:\n",
    "    for index,value in num[col].items():\n",
    "        if value>iqr_df.loc['ub',col]:\n",
    "            num.loc[index,col]=iqr_df.loc['ub',col]\n",
    "        elif value<iqr_df.loc['lb',col]:\n",
    "            num.loc[index,col]=iqr_df.loc['lb',col]"
   ]
  },
  {
   "cell_type": "code",
   "execution_count": 274,
   "id": "67583c24",
   "metadata": {},
   "outputs": [
    {
     "data": {
      "text/plain": [
       "Temp_Med      -0.049255\n",
       "Temp_Min      -0.225035\n",
       "Temp_Max      -0.145215\n",
       "Precipitate    1.208546\n",
       "Consumption    0.270268\n",
       "dtype: float64"
      ]
     },
     "execution_count": 274,
     "metadata": {},
     "output_type": "execute_result"
    }
   ],
   "source": [
    "num.skew()"
   ]
  },
  {
   "cell_type": "markdown",
   "id": "d589b16c",
   "metadata": {},
   "source": [
    "#### Univariate"
   ]
  },
  {
   "cell_type": "code",
   "execution_count": 281,
   "id": "0ea52e2e",
   "metadata": {},
   "outputs": [
    {
     "data": {
      "image/png": "[encoded data removed]",
      "text/plain": [
       "<Figure size 1000x600 with 5 Axes>"
      ]
     },
     "metadata": {},
     "output_type": "display_data"
    }
   ],
   "source": [
    "plt.figure(figsize=(10,6))\n",
    "i=1\n",
    "for col in num:\n",
    "    plt.subplot(2,3,i)\n",
    "    sns.distplot(num[col])\n",
    "    i=i+1"
   ]
  },
  {
   "cell_type": "markdown",
   "id": "ef5cee04",
   "metadata": {},
   "source": [
    "#### Co-relation Matrix"
   ]
  },
  {
   "cell_type": "code",
   "execution_count": 282,
   "id": "e1d8f516",
   "metadata": {},
   "outputs": [
    {
     "data": {
      "text/html": [
       "<div>\n",
       "<style scoped>\n",
       "    .dataframe tbody tr th:only-of-type {\n",
       "        vertical-align: middle;\n",
       "    }\n",
       "\n",
       "    .dataframe tbody tr th {\n",
       "        vertical-align: top;\n",
       "    }\n",
       "\n",
       "    .dataframe thead th {\n",
       "        text-align: right;\n",
       "    }\n",
       "</style>\n",
       "<table border=\"1\" class=\"dataframe\">\n",
       "  <thead>\n",
       "    <tr style=\"text-align: right;\">\n",
       "      <th></th>\n",
       "      <th>Temp_Med</th>\n",
       "      <th>Temp_Min</th>\n",
       "      <th>Temp_Max</th>\n",
       "      <th>Precipitate</th>\n",
       "      <th>Consumption</th>\n",
       "    </tr>\n",
       "  </thead>\n",
       "  <tbody>\n",
       "    <tr>\n",
       "      <th>Temp_Med</th>\n",
       "      <td>1.000000</td>\n",
       "      <td>0.862752</td>\n",
       "      <td>0.922442</td>\n",
       "      <td>0.000181</td>\n",
       "      <td>0.574615</td>\n",
       "    </tr>\n",
       "    <tr>\n",
       "      <th>Temp_Min</th>\n",
       "      <td>0.862752</td>\n",
       "      <td>1.000000</td>\n",
       "      <td>0.672661</td>\n",
       "      <td>0.133601</td>\n",
       "      <td>0.392509</td>\n",
       "    </tr>\n",
       "    <tr>\n",
       "      <th>Temp_Max</th>\n",
       "      <td>0.922442</td>\n",
       "      <td>0.672661</td>\n",
       "      <td>1.000000</td>\n",
       "      <td>-0.108964</td>\n",
       "      <td>0.643133</td>\n",
       "    </tr>\n",
       "    <tr>\n",
       "      <th>Precipitate</th>\n",
       "      <td>0.000181</td>\n",
       "      <td>0.133601</td>\n",
       "      <td>-0.108964</td>\n",
       "      <td>1.000000</td>\n",
       "      <td>-0.191539</td>\n",
       "    </tr>\n",
       "    <tr>\n",
       "      <th>Consumption</th>\n",
       "      <td>0.574615</td>\n",
       "      <td>0.392509</td>\n",
       "      <td>0.643133</td>\n",
       "      <td>-0.191539</td>\n",
       "      <td>1.000000</td>\n",
       "    </tr>\n",
       "  </tbody>\n",
       "</table>\n",
       "</div>"
      ],
      "text/plain": [
       "             Temp_Med  Temp_Min  Temp_Max  Precipitate  Consumption\n",
       "Temp_Med     1.000000  0.862752  0.922442     0.000181     0.574615\n",
       "Temp_Min     0.862752  1.000000  0.672661     0.133601     0.392509\n",
       "Temp_Max     0.922442  0.672661  1.000000    -0.108964     0.643133\n",
       "Precipitate  0.000181  0.133601 -0.108964     1.000000    -0.191539\n",
       "Consumption  0.574615  0.392509  0.643133    -0.191539     1.000000"
      ]
     },
     "execution_count": 282,
     "metadata": {},
     "output_type": "execute_result"
    }
   ],
   "source": [
    "cor_matrix=num.corr()\n",
    "cor_matrix"
   ]
  },
  {
   "cell_type": "markdown",
   "id": "41aee471",
   "metadata": {},
   "source": [
    "#### Missing Value Treatment"
   ]
  },
  {
   "cell_type": "code",
   "execution_count": 283,
   "id": "26d9c011",
   "metadata": {},
   "outputs": [
    {
     "data": {
      "text/plain": [
       "Temp_Med       0\n",
       "Temp_Min       0\n",
       "Temp_Max       0\n",
       "Precipitate    0\n",
       "Consumption    0\n",
       "dtype: int64"
      ]
     },
     "execution_count": 283,
     "metadata": {},
     "output_type": "execute_result"
    }
   ],
   "source": [
    "# As observed there are more than 61% null values, hence the null values will be dropped\n",
    "num=num.dropna()\n",
    "num.isnull().sum()"
   ]
  },
  {
   "cell_type": "code",
   "execution_count": 297,
   "id": "1ac83b92",
   "metadata": {},
   "outputs": [],
   "source": [
    "cat=cat.dropna()"
   ]
  },
  {
   "cell_type": "code",
   "execution_count": 298,
   "id": "aef008d1",
   "metadata": {},
   "outputs": [],
   "source": [
    "df1=pd.concat([num,cat], axis=1)"
   ]
  },
  {
   "cell_type": "code",
   "execution_count": 307,
   "id": "ecfbaff2",
   "metadata": {},
   "outputs": [],
   "source": [
    "df1=pd.get_dummies(df1,columns=['Weekend'], drop_first=True)"
   ]
  },
  {
   "cell_type": "code",
   "execution_count": 308,
   "id": "1c4ea8c0",
   "metadata": {},
   "outputs": [
    {
     "data": {
      "text/plain": [
       "Temp_Med       0\n",
       "Temp_Min       0\n",
       "Temp_Max       0\n",
       "Precipitate    0\n",
       "Consumption    0\n",
       "Weekend_1.0    0\n",
       "dtype: int64"
      ]
     },
     "execution_count": 308,
     "metadata": {},
     "output_type": "execute_result"
    }
   ],
   "source": [
    "df1.isnull().sum()"
   ]
  },
  {
   "cell_type": "code",
   "execution_count": 309,
   "id": "e7f0b625",
   "metadata": {},
   "outputs": [],
   "source": [
    "X=df1.drop('Consumption', axis=1)\n",
    "y=df1['Consumption']"
   ]
  },
  {
   "cell_type": "markdown",
   "id": "c5d36148",
   "metadata": {},
   "source": [
    "#### Train Test Split"
   ]
  },
  {
   "cell_type": "code",
   "execution_count": 310,
   "id": "1dacb2d7",
   "metadata": {},
   "outputs": [],
   "source": [
    "X_train, X_test, y_train, y_test= train_test_split(X,y,test_size=0.2,random_state=15)"
   ]
  },
  {
   "cell_type": "markdown",
   "id": "fae03442",
   "metadata": {},
   "source": [
    "#### Standardization"
   ]
  },
  {
   "cell_type": "code",
   "execution_count": 311,
   "id": "591ec074",
   "metadata": {},
   "outputs": [],
   "source": [
    "sc=StandardScaler()"
   ]
  },
  {
   "cell_type": "code",
   "execution_count": 312,
   "id": "29c8f131",
   "metadata": {},
   "outputs": [],
   "source": [
    "X_train=sc.fit_transform(X_train)\n",
    "X_test=sc.transform(X_test)"
   ]
  },
  {
   "cell_type": "code",
   "execution_count": 313,
   "id": "8d4b6121",
   "metadata": {},
   "outputs": [],
   "source": [
    "lr=LinearRegression()\n",
    "model=lr.fit(X_train,y_train)"
   ]
  },
  {
   "cell_type": "code",
   "execution_count": 314,
   "id": "7b971d79",
   "metadata": {},
   "outputs": [],
   "source": [
    "y_pred=model.predict(X_test)"
   ]
  },
  {
   "cell_type": "code",
   "execution_count": 316,
   "id": "26391634",
   "metadata": {},
   "outputs": [
    {
     "data": {
      "text/plain": [
       "0.6909941461126989"
      ]
     },
     "execution_count": 316,
     "metadata": {},
     "output_type": "execute_result"
    }
   ],
   "source": [
    "score=r2_score(y_test,y_pred)\n",
    "score"
   ]
  },
  {
   "cell_type": "code",
   "execution_count": 317,
   "id": "e4162eb8",
   "metadata": {},
   "outputs": [],
   "source": [
    "y_train_pred=model.predict(X_train)"
   ]
  },
  {
   "cell_type": "code",
   "execution_count": 366,
   "id": "4a225281",
   "metadata": {},
   "outputs": [
    {
     "data": {
      "text/plain": [
       "0.7148083014026382"
      ]
     },
     "execution_count": 366,
     "metadata": {},
     "output_type": "execute_result"
    }
   ],
   "source": [
    "score2=r2_score(y_train,y_train_pred)\n",
    "score2"
   ]
  },
  {
   "cell_type": "code",
   "execution_count": 325,
   "id": "91ca60f9",
   "metadata": {},
   "outputs": [],
   "source": [
    "X1=sm.add_constant(X)"
   ]
  },
  {
   "cell_type": "code",
   "execution_count": 326,
   "id": "1ac348f4",
   "metadata": {},
   "outputs": [],
   "source": [
    "X1_train, X1_test, y1_train, y1_test= train_test_split(X1,y,test_size=0.2,random_state=15)"
   ]
  },
  {
   "cell_type": "code",
   "execution_count": 328,
   "id": "01ea97e7",
   "metadata": {},
   "outputs": [
    {
     "name": "stdout",
     "output_type": "stream",
     "text": [
      "                            OLS Regression Results                            \n",
      "==============================================================================\n",
      "Dep. Variable:            Consumption   R-squared:                       0.715\n",
      "Model:                            OLS   Adj. R-squared:                  0.710\n",
      "Method:                 Least Squares   F-statistic:                     143.4\n",
      "Date:                Fri, 08 Dec 2023   Prob (F-statistic):           9.61e-76\n",
      "Time:                        23:04:29   Log-Likelihood:                -663.30\n",
      "No. Observations:                 292   AIC:                             1339.\n",
      "Df Residuals:                     286   BIC:                             1361.\n",
      "Df Model:                           5                                         \n",
      "Covariance Type:            nonrobust                                         \n",
      "===============================================================================\n",
      "                  coef    std err          t      P>|t|      [0.025      0.975]\n",
      "-------------------------------------------------------------------------------\n",
      "const           6.7290      0.951      7.077      0.000       4.857       8.601\n",
      "Temp_Med       -0.0809      0.216     -0.375      0.708      -0.506       0.344\n",
      "Temp_Min        0.0840      0.130      0.644      0.520      -0.173       0.341\n",
      "Temp_Max        0.6678      0.109      6.152      0.000       0.454       0.882\n",
      "Precipitate    -0.1682      0.046     -3.630      0.000      -0.259      -0.077\n",
      "Weekend_1.0     5.2428      0.306     17.157      0.000       4.641       5.844\n",
      "==============================================================================\n",
      "Omnibus:                        7.118   Durbin-Watson:                   2.030\n",
      "Prob(Omnibus):                  0.028   Jarque-Bera (JB):                4.063\n",
      "Skew:                          -0.044   Prob(JB):                        0.131\n",
      "Kurtosis:                       2.429   Cond. No.                         267.\n",
      "==============================================================================\n",
      "\n",
      "Notes:\n",
      "[1] Standard Errors assume that the covariance matrix of the errors is correctly specified.\n"
     ]
    }
   ],
   "source": [
    "modell=sm.OLS(y1_train,X1_train).fit()\n",
    "print(modell.summary())"
   ]
  },
  {
   "cell_type": "code",
   "execution_count": 332,
   "id": "97b826ef",
   "metadata": {},
   "outputs": [
    {
     "data": {
      "text/html": [
       "<div>\n",
       "<style scoped>\n",
       "    .dataframe tbody tr th:only-of-type {\n",
       "        vertical-align: middle;\n",
       "    }\n",
       "\n",
       "    .dataframe tbody tr th {\n",
       "        vertical-align: top;\n",
       "    }\n",
       "\n",
       "    .dataframe thead th {\n",
       "        text-align: right;\n",
       "    }\n",
       "</style>\n",
       "<table border=\"1\" class=\"dataframe\">\n",
       "  <thead>\n",
       "    <tr style=\"text-align: right;\">\n",
       "      <th></th>\n",
       "      <th>Temp_Med</th>\n",
       "      <th>Temp_Min</th>\n",
       "      <th>Temp_Max</th>\n",
       "      <th>Precipitate</th>\n",
       "      <th>Consumption</th>\n",
       "    </tr>\n",
       "  </thead>\n",
       "  <tbody>\n",
       "    <tr>\n",
       "      <th>Temp_Med</th>\n",
       "      <td>1.000000</td>\n",
       "      <td>0.862752</td>\n",
       "      <td>0.922442</td>\n",
       "      <td>0.000181</td>\n",
       "      <td>0.574615</td>\n",
       "    </tr>\n",
       "    <tr>\n",
       "      <th>Temp_Min</th>\n",
       "      <td>0.862752</td>\n",
       "      <td>1.000000</td>\n",
       "      <td>0.672661</td>\n",
       "      <td>0.133601</td>\n",
       "      <td>0.392509</td>\n",
       "    </tr>\n",
       "    <tr>\n",
       "      <th>Temp_Max</th>\n",
       "      <td>0.922442</td>\n",
       "      <td>0.672661</td>\n",
       "      <td>1.000000</td>\n",
       "      <td>-0.108964</td>\n",
       "      <td>0.643133</td>\n",
       "    </tr>\n",
       "    <tr>\n",
       "      <th>Precipitate</th>\n",
       "      <td>0.000181</td>\n",
       "      <td>0.133601</td>\n",
       "      <td>-0.108964</td>\n",
       "      <td>1.000000</td>\n",
       "      <td>-0.191539</td>\n",
       "    </tr>\n",
       "    <tr>\n",
       "      <th>Consumption</th>\n",
       "      <td>0.574615</td>\n",
       "      <td>0.392509</td>\n",
       "      <td>0.643133</td>\n",
       "      <td>-0.191539</td>\n",
       "      <td>1.000000</td>\n",
       "    </tr>\n",
       "  </tbody>\n",
       "</table>\n",
       "</div>"
      ],
      "text/plain": [
       "             Temp_Med  Temp_Min  Temp_Max  Precipitate  Consumption\n",
       "Temp_Med     1.000000  0.862752  0.922442     0.000181     0.574615\n",
       "Temp_Min     0.862752  1.000000  0.672661     0.133601     0.392509\n",
       "Temp_Max     0.922442  0.672661  1.000000    -0.108964     0.643133\n",
       "Precipitate  0.000181  0.133601 -0.108964     1.000000    -0.191539\n",
       "Consumption  0.574615  0.392509  0.643133    -0.191539     1.000000"
      ]
     },
     "execution_count": 332,
     "metadata": {},
     "output_type": "execute_result"
    }
   ],
   "source": [
    "cor_matrix"
   ]
  },
  {
   "cell_type": "markdown",
   "id": "6d2143c9",
   "metadata": {},
   "source": [
    "## Ridge and Lasso"
   ]
  },
  {
   "cell_type": "code",
   "execution_count": 339,
   "id": "a31f83c4",
   "metadata": {},
   "outputs": [],
   "source": [
    "ridge=Ridge()\n",
    "parameters={'alpha':[0.0001,0.001,0.01,0.015,0.1,0.15,0.2,0.5]}\n",
    "grid=GridSearchCV(estimator=ridge, param_grid=parameters, cv=5, scoring='r2')\n",
    "ridge_model=grid.fit(X_train,y_train)"
   ]
  },
  {
   "cell_type": "code",
   "execution_count": 340,
   "id": "4198a222",
   "metadata": {},
   "outputs": [
    {
     "data": {
      "text/plain": [
       "{'alpha': 0.5}"
      ]
     },
     "execution_count": 340,
     "metadata": {},
     "output_type": "execute_result"
    }
   ],
   "source": [
    "ridge_model.best_params_"
   ]
  },
  {
   "cell_type": "code",
   "execution_count": 341,
   "id": "6893bdc0",
   "metadata": {},
   "outputs": [
    {
     "data": {
      "text/plain": [
       "0.6883564516038506"
      ]
     },
     "execution_count": 341,
     "metadata": {},
     "output_type": "execute_result"
    }
   ],
   "source": [
    "ridge_model.best_score_"
   ]
  },
  {
   "cell_type": "code",
   "execution_count": 343,
   "id": "827fc290",
   "metadata": {},
   "outputs": [],
   "source": [
    "lasso=Lasso()\n",
    "param={'alpha':[0.0001,0.001,0.01,0.015,0.1,0.15,0.2,0.5]}\n",
    "lasso_grid=GridSearchCV(estimator=lasso, param_grid=param, cv=5, scoring='r2')\n",
    "lasso_model=lasso_grid.fit(X_train,y_train)"
   ]
  },
  {
   "cell_type": "code",
   "execution_count": 344,
   "id": "a624619a",
   "metadata": {},
   "outputs": [
    {
     "data": {
      "text/plain": [
       "{'alpha': 0.015}"
      ]
     },
     "execution_count": 344,
     "metadata": {},
     "output_type": "execute_result"
    }
   ],
   "source": [
    "lasso_model.best_params_"
   ]
  },
  {
   "cell_type": "code",
   "execution_count": 345,
   "id": "5a111add",
   "metadata": {},
   "outputs": [
    {
     "data": {
      "text/plain": [
       "0.6900548754826931"
      ]
     },
     "execution_count": 345,
     "metadata": {},
     "output_type": "execute_result"
    }
   ],
   "source": [
    "lasso_model.best_score_"
   ]
  },
  {
   "cell_type": "code",
   "execution_count": 347,
   "id": "18ccc70d",
   "metadata": {},
   "outputs": [],
   "source": [
    "series1=pd.Series(lasso_model.cv_results_)"
   ]
  },
  {
   "cell_type": "code",
   "execution_count": 348,
   "id": "14919c6e",
   "metadata": {},
   "outputs": [
    {
     "data": {
      "text/plain": [
       "mean_fit_time        [0.0037567615509033203, 0.0009230136871337891,...\n",
       "std_fit_time         [0.0044042500972064375, 0.0006448455542822291,...\n",
       "mean_score_time      [0.0011456966400146484, 0.0005473613739013672,...\n",
       "std_score_time       [0.0006564436474533977, 0.0006711078126799886,...\n",
       "param_alpha          [0.0001, 0.001, 0.01, 0.015, 0.1, 0.15, 0.2, 0.5]\n",
       "params               [{'alpha': 0.0001}, {'alpha': 0.001}, {'alpha'...\n",
       "split0_test_score    [0.8208189010520733, 0.8207032171157438, 0.819...\n",
       "split1_test_score    [0.5871514700815732, 0.587284474637796, 0.5887...\n",
       "split2_test_score    [0.6991676649739982, 0.6989636106967159, 0.697...\n",
       "split3_test_score    [0.6028685483503817, 0.6036198197410954, 0.610...\n",
       "split4_test_score    [0.7305101052349012, 0.7304817220992808, 0.730...\n",
       "mean_test_score      [0.6881033379385857, 0.6882105688581264, 0.689...\n",
       "std_test_score       [0.0860121188179499, 0.0857886373340757, 0.083...\n",
       "rank_test_score                               [6, 5, 3, 1, 2, 4, 7, 8]\n",
       "dtype: object"
      ]
     },
     "execution_count": 348,
     "metadata": {},
     "output_type": "execute_result"
    }
   ],
   "source": [
    "series1"
   ]
  },
  {
   "cell_type": "code",
   "execution_count": 349,
   "id": "769af70c",
   "metadata": {},
   "outputs": [
    {
     "data": {
      "text/plain": [
       "{'mean_fit_time': array([0.00375676, 0.00092301, 0.0030777 , 0.00160446, 0.00156574,\n",
       "        0.00129433, 0.00249805, 0.00160799]),\n",
       " 'std_fit_time': array([0.00440425, 0.00064485, 0.0061554 , 0.00049475, 0.00039937,\n",
       "        0.001129  , 0.0040528 , 0.00321598]),\n",
       " 'mean_score_time': array([0.0011457 , 0.00054736, 0.00030155, 0.00058928, 0.00050426,\n",
       "        0.00039206, 0.        , 0.        ]),\n",
       " 'std_score_time': array([0.00065644, 0.00067111, 0.0006031 , 0.00048127, 0.00063996,\n",
       "        0.00048028, 0.        , 0.        ]),\n",
       " 'param_alpha': masked_array(data=[0.0001, 0.001, 0.01, 0.015, 0.1, 0.15, 0.2, 0.5],\n",
       "              mask=[False, False, False, False, False, False, False, False],\n",
       "        fill_value='?',\n",
       "             dtype=object),\n",
       " 'params': [{'alpha': 0.0001},\n",
       "  {'alpha': 0.001},\n",
       "  {'alpha': 0.01},\n",
       "  {'alpha': 0.015},\n",
       "  {'alpha': 0.1},\n",
       "  {'alpha': 0.15},\n",
       "  {'alpha': 0.2},\n",
       "  {'alpha': 0.5}],\n",
       " 'split0_test_score': array([0.8208189 , 0.82070322, 0.81997955, 0.81953723, 0.81175512,\n",
       "        0.8064846 , 0.80039286, 0.74661093]),\n",
       " 'split1_test_score': array([0.58715147, 0.58728447, 0.58871038, 0.58948743, 0.60121016,\n",
       "        0.60772371, 0.61332741, 0.62393933]),\n",
       " 'split2_test_score': array([0.69916766, 0.69896361, 0.69790295, 0.69744465, 0.69095728,\n",
       "        0.6864656 , 0.68143293, 0.63987657]),\n",
       " 'split3_test_score': array([0.60286855, 0.60361982, 0.61048838, 0.61381276, 0.61908221,\n",
       "        0.62051188, 0.62096214, 0.60317765]),\n",
       " 'split4_test_score': array([0.73051011, 0.73048172, 0.7301287 , 0.72999232, 0.72624746,\n",
       "        0.72273167, 0.71815442, 0.67451933]),\n",
       " 'mean_test_score': array([0.68810334, 0.68821057, 0.68944199, 0.69005488, 0.68985045,\n",
       "        0.68878349, 0.68685395, 0.65762476]),\n",
       " 'std_test_score': array([0.08601212, 0.08578864, 0.08384221, 0.08287576, 0.07622593,\n",
       "        0.07244737, 0.06877219, 0.05023576]),\n",
       " 'rank_test_score': array([6, 5, 3, 1, 2, 4, 7, 8])}"
      ]
     },
     "execution_count": 349,
     "metadata": {},
     "output_type": "execute_result"
    }
   ],
   "source": [
    "lasso_model.cv_results_"
   ]
  },
  {
   "cell_type": "code",
   "execution_count": null,
   "id": "38e411aa",
   "metadata": {},
   "outputs": [],
   "source": []
  },
  {
   "cell_type": "code",
   "execution_count": 352,
   "id": "557ea19c",
   "metadata": {},
   "outputs": [],
   "source": [
    "newX=df1[['Temp_Max','Precipitate','Weekend_1.0']]\n",
    "newy=df1['Consumption']"
   ]
  },
  {
   "cell_type": "code",
   "execution_count": 353,
   "id": "6040791c",
   "metadata": {},
   "outputs": [],
   "source": [
    "newX=sm.add_constant(newX)"
   ]
  },
  {
   "cell_type": "code",
   "execution_count": 356,
   "id": "31a49abe",
   "metadata": {},
   "outputs": [],
   "source": [
    "Xn_train, Xn_test, yn_train, yn_test=train_test_split(newX,newy, test_size=0.3, random_state=15)"
   ]
  },
  {
   "cell_type": "code",
   "execution_count": 357,
   "id": "5fe4fd37",
   "metadata": {},
   "outputs": [],
   "source": [
    "multi_co_removed_model=sm.OLS(yn_train,Xn_train).fit()"
   ]
  },
  {
   "cell_type": "code",
   "execution_count": 358,
   "id": "271c9ecd",
   "metadata": {},
   "outputs": [
    {
     "name": "stdout",
     "output_type": "stream",
     "text": [
      "                            OLS Regression Results                            \n",
      "==============================================================================\n",
      "Dep. Variable:            Consumption   R-squared:                       0.694\n",
      "Model:                            OLS   Adj. R-squared:                  0.690\n",
      "Method:                 Least Squares   F-statistic:                     189.6\n",
      "Date:                Sat, 09 Dec 2023   Prob (F-statistic):           3.32e-64\n",
      "Time:                        00:57:08   Log-Likelihood:                -585.83\n",
      "No. Observations:                 255   AIC:                             1180.\n",
      "Df Residuals:                     251   BIC:                             1194.\n",
      "Df Model:                           3                                         \n",
      "Covariance Type:            nonrobust                                         \n",
      "===============================================================================\n",
      "                  coef    std err          t      P>|t|      [0.025      0.975]\n",
      "-------------------------------------------------------------------------------\n",
      "const           7.1130      0.958      7.423      0.000       5.226       9.000\n",
      "Temp_Max        0.6464      0.035     18.680      0.000       0.578       0.715\n",
      "Precipitate    -0.1720      0.050     -3.466      0.001      -0.270      -0.074\n",
      "Weekend_1.0     5.1206      0.335     15.267      0.000       4.460       5.781\n",
      "==============================================================================\n",
      "Omnibus:                        8.493   Durbin-Watson:                   1.950\n",
      "Prob(Omnibus):                  0.014   Jarque-Bera (JB):                4.429\n",
      "Skew:                          -0.060   Prob(JB):                        0.109\n",
      "Kurtosis:                       2.365   Cond. No.                         172.\n",
      "==============================================================================\n",
      "\n",
      "Notes:\n",
      "[1] Standard Errors assume that the covariance matrix of the errors is correctly specified.\n"
     ]
    }
   ],
   "source": [
    "print(multi_co_removed_model.summary())"
   ]
  },
  {
   "cell_type": "code",
   "execution_count": null,
   "id": "f5d83177",
   "metadata": {},
   "outputs": [],
   "source": []
  },
  {
   "cell_type": "code",
   "execution_count": 367,
   "id": "755e2fba",
   "metadata": {},
   "outputs": [],
   "source": [
    "sfs_for=sfs(estimator=lr, k_features='best', forward=True)\n",
    "sfs_model=sfs_for.fit(X1_train,y1_train)"
   ]
  },
  {
   "cell_type": "code",
   "execution_count": 368,
   "id": "a6286b83",
   "metadata": {},
   "outputs": [
    {
     "data": {
      "text/plain": [
       "['Temp_Max', 'Precipitate', 'Weekend_1.0']"
      ]
     },
     "execution_count": 368,
     "metadata": {},
     "output_type": "execute_result"
    }
   ],
   "source": [
    "list(sfs_model.k_feature_names_)"
   ]
  },
  {
   "cell_type": "code",
   "execution_count": 369,
   "id": "6fe195b1",
   "metadata": {},
   "outputs": [
    {
     "data": {
      "text/plain": [
       "0.6909655535636141"
      ]
     },
     "execution_count": 369,
     "metadata": {},
     "output_type": "execute_result"
    }
   ],
   "source": [
    "sfs_model.k_score_"
   ]
  },
  {
   "cell_type": "code",
   "execution_count": null,
   "id": "c6e2309b",
   "metadata": {},
   "outputs": [],
   "source": []
  },
  {
   "cell_type": "code",
   "execution_count": 376,
   "id": "9d2a67c6",
   "metadata": {},
   "outputs": [
    {
     "name": "stdout",
     "output_type": "stream",
     "text": [
      "0.615238658314657\n",
      "0.5586231254741898\n"
     ]
    }
   ],
   "source": [
    "# This method is not right, true value should be passed first\n",
    "y_predd=multi_co_removed_model.predict(Xn_test)\n",
    "new_model_score=r2_score(y_predd,yn_test)\n",
    "print(new_model_score)\n",
    "y_preddd=multi_co_removed_model.predict(Xn_train)\n",
    "new_model_score1=r2_score(y_preddd,yn_train)\n",
    "print(new_model_score1)"
   ]
  },
  {
   "cell_type": "code",
   "execution_count": 380,
   "id": "755e98f1",
   "metadata": {},
   "outputs": [
    {
     "name": "stdout",
     "output_type": "stream",
     "text": [
      "R2 for test model:  0.7453889588403475\n",
      "R2 for train model:  0.6937810767423228\n"
     ]
    }
   ],
   "source": [
    "# This is the right way!!\n",
    "y_predd=multi_co_removed_model.predict(Xn_test)\n",
    "new_model_score=r2_score(yn_test,y_predd)\n",
    "print('R2 for test model: ',new_model_score)\n",
    "y_preddd=multi_co_removed_model.predict(Xn_train)\n",
    "new_model_score1=r2_score(yn_train,y_preddd)\n",
    "print('R2 for train model: ',new_model_score1)"
   ]
  },
  {
   "cell_type": "code",
   "execution_count": null,
   "id": "36681bff",
   "metadata": {},
   "outputs": [],
   "source": []
  },
  {
   "cell_type": "code",
   "execution_count": null,
   "id": "bdfeb089",
   "metadata": {},
   "outputs": [],
   "source": []
  }
 ],
 "metadata": {
  "kernelspec": {
   "display_name": "Python 3 (ipykernel)",
   "language": "python",
   "name": "python3"
  },
  "language_info": {
   "codemirror_mode": {
    "name": "ipython",
    "version": 3
   },
   "file_extension": ".py",
   "mimetype": "text/x-python",
   "name": "python",
   "nbconvert_exporter": "python",
   "pygments_lexer": "ipython3",
   "version": "3.10.9"
  }
 },
 "nbformat": 4,
 "nbformat_minor": 5
}
